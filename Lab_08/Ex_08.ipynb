{
  "cells": [
    {
      "cell_type": "markdown",
      "id": "4e658167-a5e2-42c5-9fa6-01f7021fbca4",
      "metadata": {
        "id": "4e658167-a5e2-42c5-9fa6-01f7021fbca4"
      },
      "source": [
        "# MKA-MLF, Lab_08 - RNN"
      ]
    },
    {
      "cell_type": "markdown",
      "source": [
        "Recurrent Neural Networks, are a class of artificial neural networks designed to recognize patterns in sequences of data, such as text, genomes, handwriting, or spoken words. Unlike traditional neural networks, which assume all inputs (and outputs) are independent of each other, RNNs are designed to recognize sequential or temporal patterns, making them especially suited for tasks like language modeling, speech recognition, and time series prediction."
      ],
      "metadata": {
        "id": "F6KltZSGklJQ"
      },
      "id": "F6KltZSGklJQ"
    },
    {
      "cell_type": "markdown",
      "source": [
        "## Exercise 1 - Time Series Forecasting"
      ],
      "metadata": {
        "id": "zheceqk2lMcA"
      },
      "id": "zheceqk2lMcA"
    },
    {
      "cell_type": "markdown",
      "source": [
        "### 1.0 Import Libraries"
      ],
      "metadata": {
        "id": "TzFZTA1DrJbG"
      },
      "id": "TzFZTA1DrJbG"
    },
    {
      "cell_type": "code",
      "source": [
        "import numpy as np\n",
        "import matplotlib.pyplot as plt\n",
        "from keras.layers import Dense, Flatten, SimpleRNN\n",
        "import tensorflow as tf\n",
        "from tensorflow.keras.models import Sequential\n",
        "from tensorflow.keras.optimizers import Adam"
      ],
      "metadata": {
        "id": "Whyi3QznnAbG"
      },
      "id": "Whyi3QznnAbG",
      "execution_count": 1,
      "outputs": []
    },
    {
      "cell_type": "markdown",
      "source": [
        "### 1.1 Generating dataset"
      ],
      "metadata": {
        "id": "UBqkZx0lrCAP"
      },
      "id": "UBqkZx0lrCAP"
    },
    {
      "cell_type": "code",
      "source": [
        "def generate_time_series(batch_size, n_steps):\n",
        "  freq1, freq2, offsets1, offsets2 = np.random.rand(4, batch_size, 1)\n",
        "  time = np.linspace(0,1,n_steps)\n",
        "\n",
        "  series = 0.5 * np.sin((time - offsets1) * (freq1*10 + 10))\n",
        "  series += 0.2 * np.sin((time - offsets2) * (freq2*20 + 20))\n",
        "  series += 0.1 * (np.random.rand(batch_size, n_steps)- 0.5)\n",
        "  return series[..., np.newaxis].astype(np.float32)"
      ],
      "metadata": {
        "id": "Q_Q3ulmRlS6R"
      },
      "id": "Q_Q3ulmRlS6R",
      "execution_count": 2,
      "outputs": []
    },
    {
      "cell_type": "code",
      "source": [
        "data_size = 10000\n",
        "n_steps = 50\n",
        "np.random.seed(0)\n",
        "\n",
        "series = generate_time_series(data_size, n_steps + 1)"
      ],
      "metadata": {
        "id": "p9kt6EQjkfvi"
      },
      "id": "p9kt6EQjkfvi",
      "execution_count": 3,
      "outputs": []
    },
    {
      "cell_type": "markdown",
      "source": [
        "### 1.2 Train/Valid/Test split"
      ],
      "metadata": {
        "id": "5neyWb-NrQ98"
      },
      "id": "5neyWb-NrQ98"
    },
    {
      "cell_type": "code",
      "source": [
        "X_train, y_train = series[:7000, :n_steps], series[:7000, -1]\n",
        "X_valid, y_valid = series[7000:9000, :n_steps], series[7000:9000, -1]\n",
        "X_test, y_test = series[9000:, :n_steps], series[9000:, -1]"
      ],
      "metadata": {
        "id": "hPX75BPkmZqk"
      },
      "id": "hPX75BPkmZqk",
      "execution_count": 4,
      "outputs": []
    },
    {
      "cell_type": "code",
      "source": [
        "no_training_epochs = 5"
      ],
      "metadata": {
        "id": "0DtVKkwzuoQZ"
      },
      "id": "0DtVKkwzuoQZ",
      "execution_count": 5,
      "outputs": []
    },
    {
      "cell_type": "markdown",
      "source": [
        "### 1.3 Data examination"
      ],
      "metadata": {
        "id": "js6Qzm--rXmD"
      },
      "id": "js6Qzm--rXmD"
    },
    {
      "cell_type": "code",
      "source": [
        "plt.figure()\n",
        "plt.plot(X_train[0])\n",
        "plt.plot(n_steps+1, y_train[0], 'rx')"
      ],
      "metadata": {
        "colab": {
          "base_uri": "https://localhost:8080/",
          "height": 447
        },
        "id": "GpXWorBknLSr",
        "outputId": "b39eb5f3-6800-4d30-a5b4-74af887bda13"
      },
      "id": "GpXWorBknLSr",
      "execution_count": 6,
      "outputs": [
        {
          "output_type": "execute_result",
          "data": {
            "text/plain": [
              "[<matplotlib.lines.Line2D at 0x7e6a7f73db10>]"
            ]
          },
          "metadata": {},
          "execution_count": 6
        },
        {
          "output_type": "display_data",
          "data": {
            "text/plain": [
              "<Figure size 640x480 with 1 Axes>"
            ],
            "image/png": "[encoded data removed]"
          },
          "metadata": {}
        }
      ]
    },
    {
      "cell_type": "markdown",
      "source": [
        "### 1.4 Simple Linear model"
      ],
      "metadata": {
        "id": "GvgPXxfBrahC"
      },
      "id": "GvgPXxfBrahC"
    },
    {
      "cell_type": "code",
      "source": [
        "# Model definition\n",
        "model_linear = Sequential()\n",
        "model_linear.add(Flatten(input_shape=(50,1)))\n",
        "model_linear.add(Dense(1, activation = None))"
      ],
      "metadata": {
        "id": "g7izHKRso_an",
        "colab": {
          "base_uri": "https://localhost:8080/"
        },
        "outputId": "92726feb-80a2-43ae-8845-12dc44e29728"
      },
      "id": "g7izHKRso_an",
      "execution_count": 7,
      "outputs": [
        {
          "output_type": "stream",
          "name": "stderr",
          "text": [
            "/usr/local/lib/python3.11/dist-packages/keras/src/layers/reshaping/flatten.py:37: UserWarning: Do not pass an `input_shape`/`input_dim` argument to a layer. When using Sequential models, prefer using an `Input(shape)` object as the first layer in the model instead.\n",
            "  super().__init__(**kwargs)\n"
          ]
        }
      ]
    },
    {
      "cell_type": "code",
      "source": [
        "# Model building\n",
        "\n",
        "learning_rate = 0.001\n",
        "optimizer = Adam(learning_rate)\n",
        "model_linear.compile(loss='mean_squared_error', optimizer=optimizer, metrics=['mean_squared_error'])"
      ],
      "metadata": {
        "id": "csJhWfvypZw7"
      },
      "id": "csJhWfvypZw7",
      "execution_count": 8,
      "outputs": []
    },
    {
      "cell_type": "code",
      "source": [
        "model_linear.summary()"
      ],
      "metadata": {
        "colab": {
          "base_uri": "https://localhost:8080/",
          "height": 204
        },
        "id": "D3iBcNJQpnMv",
        "outputId": "ba20e8af-27a4-47ce-e0c5-f195965c44a0"
      },
      "id": "D3iBcNJQpnMv",
      "execution_count": 9,
      "outputs": [
        {
          "output_type": "display_data",
          "data": {
            "text/plain": [
              "\u001b[1mModel: \"sequential\"\u001b[0m\n"
            ],
            "text/html": [
              "<pre style=\"white-space:pre;overflow-x:auto;line-height:normal;font-family:Menlo,'DejaVu Sans Mono',consolas,'Courier New',monospace\"><span style=\"font-weight: bold\">Model: \"sequential\"</span>\n",
              "</pre>\n"
            ]
          },
          "metadata": {}
        },
        {
          "output_type": "display_data",
          "data": {
            "text/plain": [
              "┏━━━━━━━━━━━━━━━━━━━━━━━━━━━━━━━━━━━━━━┳━━━━━━━━━━━━━━━━━━━━━━━━━━━━━┳━━━━━━━━━━━━━━━━━┓\n",
              "┃\u001b[1m \u001b[0m\u001b[1mLayer (type)                        \u001b[0m\u001b[1m \u001b[0m┃\u001b[1m \u001b[0m\u001b[1mOutput Shape               \u001b[0m\u001b[1m \u001b[0m┃\u001b[1m \u001b[0m\u001b[1m        Param #\u001b[0m\u001b[1m \u001b[0m┃\n",
              "┡━━━━━━━━━━━━━━━━━━━━━━━━━━━━━━━━━━━━━━╇━━━━━━━━━━━━━━━━━━━━━━━━━━━━━╇━━━━━━━━━━━━━━━━━┩\n",
              "│ flatten (\u001b[38;5;33mFlatten\u001b[0m)                    │ (\u001b[38;5;45mNone\u001b[0m, \u001b[38;5;34m50\u001b[0m)                  │               \u001b[38;5;34m0\u001b[0m │\n",
              "├──────────────────────────────────────┼─────────────────────────────┼─────────────────┤\n",
              "│ dense (\u001b[38;5;33mDense\u001b[0m)                        │ (\u001b[38;5;45mNone\u001b[0m, \u001b[38;5;34m1\u001b[0m)                   │              \u001b[38;5;34m51\u001b[0m │\n",
              "└──────────────────────────────────────┴─────────────────────────────┴─────────────────┘\n"
            ],
            "text/html": [
              "<pre style=\"white-space:pre;overflow-x:auto;line-height:normal;font-family:Menlo,'DejaVu Sans Mono',consolas,'Courier New',monospace\">┏━━━━━━━━━━━━━━━━━━━━━━━━━━━━━━━━━━━━━━┳━━━━━━━━━━━━━━━━━━━━━━━━━━━━━┳━━━━━━━━━━━━━━━━━┓\n",
              "┃<span style=\"font-weight: bold\"> Layer (type)                         </span>┃<span style=\"font-weight: bold\"> Output Shape                </span>┃<span style=\"font-weight: bold\">         Param # </span>┃\n",
              "┡━━━━━━━━━━━━━━━━━━━━━━━━━━━━━━━━━━━━━━╇━━━━━━━━━━━━━━━━━━━━━━━━━━━━━╇━━━━━━━━━━━━━━━━━┩\n",
              "│ flatten (<span style=\"color: #0087ff; text-decoration-color: #0087ff\">Flatten</span>)                    │ (<span style=\"color: #00d7ff; text-decoration-color: #00d7ff\">None</span>, <span style=\"color: #00af00; text-decoration-color: #00af00\">50</span>)                  │               <span style=\"color: #00af00; text-decoration-color: #00af00\">0</span> │\n",
              "├──────────────────────────────────────┼─────────────────────────────┼─────────────────┤\n",
              "│ dense (<span style=\"color: #0087ff; text-decoration-color: #0087ff\">Dense</span>)                        │ (<span style=\"color: #00d7ff; text-decoration-color: #00d7ff\">None</span>, <span style=\"color: #00af00; text-decoration-color: #00af00\">1</span>)                   │              <span style=\"color: #00af00; text-decoration-color: #00af00\">51</span> │\n",
              "└──────────────────────────────────────┴─────────────────────────────┴─────────────────┘\n",
              "</pre>\n"
            ]
          },
          "metadata": {}
        },
        {
          "output_type": "display_data",
          "data": {
            "text/plain": [
              "\u001b[1m Total params: \u001b[0m\u001b[38;5;34m51\u001b[0m (204.00 B)\n"
            ],
            "text/html": [
              "<pre style=\"white-space:pre;overflow-x:auto;line-height:normal;font-family:Menlo,'DejaVu Sans Mono',consolas,'Courier New',monospace\"><span style=\"font-weight: bold\"> Total params: </span><span style=\"color: #00af00; text-decoration-color: #00af00\">51</span> (204.00 B)\n",
              "</pre>\n"
            ]
          },
          "metadata": {}
        },
        {
          "output_type": "display_data",
          "data": {
            "text/plain": [
              "\u001b[1m Trainable params: \u001b[0m\u001b[38;5;34m51\u001b[0m (204.00 B)\n"
            ],
            "text/html": [
              "<pre style=\"white-space:pre;overflow-x:auto;line-height:normal;font-family:Menlo,'DejaVu Sans Mono',consolas,'Courier New',monospace\"><span style=\"font-weight: bold\"> Trainable params: </span><span style=\"color: #00af00; text-decoration-color: #00af00\">51</span> (204.00 B)\n",
              "</pre>\n"
            ]
          },
          "metadata": {}
        },
        {
          "output_type": "display_data",
          "data": {
            "text/plain": [
              "\u001b[1m Non-trainable params: \u001b[0m\u001b[38;5;34m0\u001b[0m (0.00 B)\n"
            ],
            "text/html": [
              "<pre style=\"white-space:pre;overflow-x:auto;line-height:normal;font-family:Menlo,'DejaVu Sans Mono',consolas,'Courier New',monospace\"><span style=\"font-weight: bold\"> Non-trainable params: </span><span style=\"color: #00af00; text-decoration-color: #00af00\">0</span> (0.00 B)\n",
              "</pre>\n"
            ]
          },
          "metadata": {}
        }
      ]
    },
    {
      "cell_type": "code",
      "source": [
        "# Model training\n",
        "\n",
        "history_linear = model_linear.fit(X_train, y_train, epochs=no_training_epochs, validation_data=[X_valid, y_valid])"
      ],
      "metadata": {
        "colab": {
          "base_uri": "https://localhost:8080/"
        },
        "id": "GGZMF0d9pmbv",
        "outputId": "50b28c39-984c-4125-c1c7-93720d24118f"
      },
      "id": "GGZMF0d9pmbv",
      "execution_count": 10,
      "outputs": [
        {
          "output_type": "stream",
          "name": "stdout",
          "text": [
            "Epoch 1/5\n",
            "\u001b[1m219/219\u001b[0m \u001b[32m━━━━━━━━━━━━━━━━━━━━\u001b[0m\u001b[37m\u001b[0m \u001b[1m6s\u001b[0m 20ms/step - loss: 0.3842 - mean_squared_error: 0.3842 - val_loss: 0.1158 - val_mean_squared_error: 0.1158\n",
            "Epoch 2/5\n",
            "\u001b[1m219/219\u001b[0m \u001b[32m━━━━━━━━━━━━━━━━━━━━\u001b[0m\u001b[37m\u001b[0m \u001b[1m1s\u001b[0m 5ms/step - loss: 0.0921 - mean_squared_error: 0.0921 - val_loss: 0.0576 - val_mean_squared_error: 0.0576\n",
            "Epoch 3/5\n",
            "\u001b[1m219/219\u001b[0m \u001b[32m━━━━━━━━━━━━━━━━━━━━\u001b[0m\u001b[37m\u001b[0m \u001b[1m1s\u001b[0m 5ms/step - loss: 0.0499 - mean_squared_error: 0.0499 - val_loss: 0.0350 - val_mean_squared_error: 0.0350\n",
            "Epoch 4/5\n",
            "\u001b[1m219/219\u001b[0m \u001b[32m━━━━━━━━━━━━━━━━━━━━\u001b[0m\u001b[37m\u001b[0m \u001b[1m2s\u001b[0m 7ms/step - loss: 0.0317 - mean_squared_error: 0.0317 - val_loss: 0.0235 - val_mean_squared_error: 0.0235\n",
            "Epoch 5/5\n",
            "\u001b[1m219/219\u001b[0m \u001b[32m━━━━━━━━━━━━━━━━━━━━\u001b[0m\u001b[37m\u001b[0m \u001b[1m2s\u001b[0m 3ms/step - loss: 0.0221 - mean_squared_error: 0.0221 - val_loss: 0.0172 - val_mean_squared_error: 0.0172\n"
          ]
        }
      ]
    },
    {
      "cell_type": "code",
      "source": [
        "def plot_function(history):\n",
        "  plt.figure()\n",
        "\n",
        "  plt.plot(history.history['loss'], label='loss')\n",
        "  plt.plot(history.history['val_loss'], label='validation_loss')\n",
        "  plt.legend()\n",
        "  plt.grid()\n",
        "  plt.xlim([0,no_training_epochs-1])\n",
        "  plt.xlabel('epochs')"
      ],
      "metadata": {
        "id": "t9IahRnYqSi4"
      },
      "id": "t9IahRnYqSi4",
      "execution_count": 11,
      "outputs": []
    },
    {
      "cell_type": "code",
      "source": [
        "plot_function(history_linear)"
      ],
      "metadata": {
        "colab": {
          "base_uri": "https://localhost:8080/",
          "height": 449
        },
        "id": "wMAEXxYiwKYo",
        "outputId": "94ee1f8f-c983-46fc-f096-84d04870002e"
      },
      "id": "wMAEXxYiwKYo",
      "execution_count": 12,
      "outputs": [
        {
          "output_type": "display_data",
          "data": {
            "text/plain": [
              "<Figure size 640x480 with 1 Axes>"
            ],
            "image/png": "[encoded data removed]"
          },
          "metadata": {}
        }
      ]
    },
    {
      "cell_type": "code",
      "source": [
        "score = model_linear.evaluate(X_test, y_test, verbose=0)\n",
        "print('Test loss:', score[0])\n",
        "print(f'Test MSE: ', score[1])"
      ],
      "metadata": {
        "colab": {
          "base_uri": "https://localhost:8080/"
        },
        "id": "nKnuXHSSqV8n",
        "outputId": "8d7e4504-3a7e-4c51-ecf3-edb69f61bd56"
      },
      "id": "nKnuXHSSqV8n",
      "execution_count": 13,
      "outputs": [
        {
          "output_type": "stream",
          "name": "stdout",
          "text": [
            "Test loss: 0.017306094989180565\n",
            "Test MSE:  0.017306094989180565\n"
          ]
        }
      ]
    },
    {
      "cell_type": "markdown",
      "source": [
        "### 1.5 Simple RNN Model"
      ],
      "metadata": {
        "id": "odHZYob8rf4B"
      },
      "id": "odHZYob8rf4B"
    },
    {
      "cell_type": "code",
      "source": [
        "model_simple_rnn = Sequential()\n",
        "model_simple_rnn.add(SimpleRNN(1, input_shape=[50, 1]))"
      ],
      "metadata": {
        "id": "jRSMY-2GrAI5",
        "colab": {
          "base_uri": "https://localhost:8080/"
        },
        "outputId": "4de629b5-81a5-4851-9fbd-4eb7e970e414"
      },
      "id": "jRSMY-2GrAI5",
      "execution_count": 14,
      "outputs": [
        {
          "output_type": "stream",
          "name": "stderr",
          "text": [
            "/usr/local/lib/python3.11/dist-packages/keras/src/layers/rnn/rnn.py:200: UserWarning: Do not pass an `input_shape`/`input_dim` argument to a layer. When using Sequential models, prefer using an `Input(shape)` object as the first layer in the model instead.\n",
            "  super().__init__(**kwargs)\n"
          ]
        }
      ]
    },
    {
      "cell_type": "code",
      "source": [
        "learning_rate_simple_rnn = 0.001\n",
        "optimizer_simple_rnn = Adam(learning_rate_simple_rnn)\n",
        "model_simple_rnn.compile(loss='mean_squared_error', optimizer=optimizer_simple_rnn, metrics=['mean_squared_error'])"
      ],
      "metadata": {
        "id": "a4O10LpTtPun"
      },
      "id": "a4O10LpTtPun",
      "execution_count": 15,
      "outputs": []
    },
    {
      "cell_type": "code",
      "source": [
        "history_simple_rnn = model_simple_rnn.fit(X_train, y_train, epochs=no_training_epochs, validation_data=[X_valid, y_valid])"
      ],
      "metadata": {
        "colab": {
          "base_uri": "https://localhost:8080/"
        },
        "id": "kvkCnmGDtaSo",
        "outputId": "b5f8d357-c377-433a-c7cd-0a8dbdcaf6b3"
      },
      "id": "kvkCnmGDtaSo",
      "execution_count": 16,
      "outputs": [
        {
          "output_type": "stream",
          "name": "stdout",
          "text": [
            "Epoch 1/5\n",
            "\u001b[1m219/219\u001b[0m \u001b[32m━━━━━━━━━━━━━━━━━━━━\u001b[0m\u001b[37m\u001b[0m \u001b[1m4s\u001b[0m 13ms/step - loss: 0.2880 - mean_squared_error: 0.2880 - val_loss: 0.1894 - val_mean_squared_error: 0.1894\n",
            "Epoch 2/5\n",
            "\u001b[1m219/219\u001b[0m \u001b[32m━━━━━━━━━━━━━━━━━━━━\u001b[0m\u001b[37m\u001b[0m \u001b[1m1s\u001b[0m 5ms/step - loss: 0.1547 - mean_squared_error: 0.1547 - val_loss: 0.0854 - val_mean_squared_error: 0.0854\n",
            "Epoch 3/5\n",
            "\u001b[1m219/219\u001b[0m \u001b[32m━━━━━━━━━━━━━━━━━━━━\u001b[0m\u001b[37m\u001b[0m \u001b[1m1s\u001b[0m 4ms/step - loss: 0.0720 - mean_squared_error: 0.0720 - val_loss: 0.0528 - val_mean_squared_error: 0.0528\n",
            "Epoch 4/5\n",
            "\u001b[1m219/219\u001b[0m \u001b[32m━━━━━━━━━━━━━━━━━━━━\u001b[0m\u001b[37m\u001b[0m \u001b[1m1s\u001b[0m 4ms/step - loss: 0.0504 - mean_squared_error: 0.0504 - val_loss: 0.0444 - val_mean_squared_error: 0.0444\n",
            "Epoch 5/5\n",
            "\u001b[1m219/219\u001b[0m \u001b[32m━━━━━━━━━━━━━━━━━━━━\u001b[0m\u001b[37m\u001b[0m \u001b[1m1s\u001b[0m 4ms/step - loss: 0.0424 - mean_squared_error: 0.0424 - val_loss: 0.0395 - val_mean_squared_error: 0.0395\n"
          ]
        }
      ]
    },
    {
      "cell_type": "code",
      "source": [
        "plot_function(history_simple_rnn)"
      ],
      "metadata": {
        "id": "a7b9ss0XJLUs",
        "colab": {
          "base_uri": "https://localhost:8080/",
          "height": 449
        },
        "outputId": "d84b6ba6-be84-4d0f-8e8f-cb5e48ff46a0"
      },
      "id": "a7b9ss0XJLUs",
      "execution_count": 17,
      "outputs": [
        {
          "output_type": "display_data",
          "data": {
            "text/plain": [
              "<Figure size 640x480 with 1 Axes>"
            ],
            "image/png": "[encoded data removed]"
          },
          "metadata": {}
        }
      ]
    },
    {
      "cell_type": "markdown",
      "source": [
        "### 1.5 Deep RNN Model"
      ],
      "metadata": {
        "id": "NxaXF_ZKuMSN"
      },
      "id": "NxaXF_ZKuMSN"
    },
    {
      "cell_type": "code",
      "source": [
        "model_deep_rnn = Sequential()\n",
        "model_deep_rnn.add(SimpleRNN(20, return_sequences = True, input_shape=[50, 1]))\n",
        "model_deep_rnn.add(SimpleRNN(20, return_sequences = True))\n",
        "model_deep_rnn.add(SimpleRNN(1, input_shape=[50, 1]))"
      ],
      "metadata": {
        "id": "Vf6SRKUGtgQU"
      },
      "id": "Vf6SRKUGtgQU",
      "execution_count": 18,
      "outputs": []
    },
    {
      "cell_type": "code",
      "source": [
        "learning_rate_deep_rnn = 0.001\n",
        "optimizer_deep_rnn = Adam(learning_rate_deep_rnn)\n",
        "model_deep_rnn.compile(loss='mean_squared_error', optimizer=optimizer_deep_rnn, metrics=['mean_squared_error'])"
      ],
      "metadata": {
        "id": "rykrG5VXuZ6s"
      },
      "id": "rykrG5VXuZ6s",
      "execution_count": 19,
      "outputs": []
    },
    {
      "cell_type": "code",
      "source": [
        "history_deep_rnn = model_deep_rnn.fit(X_train, y_train, epochs=no_training_epochs, validation_data=[X_valid, y_valid])"
      ],
      "metadata": {
        "colab": {
          "base_uri": "https://localhost:8080/"
        },
        "id": "TX-nr2jOuhIm",
        "outputId": "db1e0dd8-90c6-46f6-d208-12d4527bb3a3"
      },
      "id": "TX-nr2jOuhIm",
      "execution_count": 20,
      "outputs": [
        {
          "output_type": "stream",
          "name": "stdout",
          "text": [
            "Epoch 1/5\n",
            "\u001b[1m219/219\u001b[0m \u001b[32m━━━━━━━━━━━━━━━━━━━━\u001b[0m\u001b[37m\u001b[0m \u001b[1m10s\u001b[0m 25ms/step - loss: 0.0395 - mean_squared_error: 0.0395 - val_loss: 0.0044 - val_mean_squared_error: 0.0044\n",
            "Epoch 2/5\n",
            "\u001b[1m219/219\u001b[0m \u001b[32m━━━━━━━━━━━━━━━━━━━━\u001b[0m\u001b[37m\u001b[0m \u001b[1m6s\u001b[0m 14ms/step - loss: 0.0043 - mean_squared_error: 0.0043 - val_loss: 0.0034 - val_mean_squared_error: 0.0034\n",
            "Epoch 3/5\n",
            "\u001b[1m219/219\u001b[0m \u001b[32m━━━━━━━━━━━━━━━━━━━━\u001b[0m\u001b[37m\u001b[0m \u001b[1m3s\u001b[0m 12ms/step - loss: 0.0035 - mean_squared_error: 0.0035 - val_loss: 0.0033 - val_mean_squared_error: 0.0033\n",
            "Epoch 4/5\n",
            "\u001b[1m219/219\u001b[0m \u001b[32m━━━━━━━━━━━━━━━━━━━━\u001b[0m\u001b[37m\u001b[0m \u001b[1m2s\u001b[0m 11ms/step - loss: 0.0034 - mean_squared_error: 0.0034 - val_loss: 0.0031 - val_mean_squared_error: 0.0031\n",
            "Epoch 5/5\n",
            "\u001b[1m219/219\u001b[0m \u001b[32m━━━━━━━━━━━━━━━━━━━━\u001b[0m\u001b[37m\u001b[0m \u001b[1m2s\u001b[0m 11ms/step - loss: 0.0032 - mean_squared_error: 0.0032 - val_loss: 0.0031 - val_mean_squared_error: 0.0031\n"
          ]
        }
      ]
    },
    {
      "cell_type": "code",
      "source": [
        "score = model_deep_rnn.evaluate(X_test, y_test, verbose=0)\n",
        "print('Test loss:', score[0])\n",
        "print(f'Test MSE: ', score[1])"
      ],
      "metadata": {
        "colab": {
          "base_uri": "https://localhost:8080/"
        },
        "id": "W2JOVZAlw2I6",
        "outputId": "bd4ae4ef-739b-4d89-c6fe-cb47b421f0d1"
      },
      "id": "W2JOVZAlw2I6",
      "execution_count": 21,
      "outputs": [
        {
          "output_type": "stream",
          "name": "stdout",
          "text": [
            "Test loss: 0.0032108568120747805\n",
            "Test MSE:  0.0032108568120747805\n"
          ]
        }
      ]
    },
    {
      "cell_type": "code",
      "source": [
        "plot_function(history_simple_rnn)"
      ],
      "metadata": {
        "id": "h-RBk92nJSXt",
        "colab": {
          "base_uri": "https://localhost:8080/",
          "height": 449
        },
        "outputId": "fd1ea4a1-2578-46c5-b96c-bd5672dd03db"
      },
      "id": "h-RBk92nJSXt",
      "execution_count": 22,
      "outputs": [
        {
          "output_type": "display_data",
          "data": {
            "text/plain": [
              "<Figure size 640x480 with 1 Axes>"
            ],
            "image/png": "[encoded data removed]"
          },
          "metadata": {}
        }
      ]
    },
    {
      "cell_type": "markdown",
      "source": [
        "## Exercise 2 - The movie review\n",
        "\n",
        "\n"
      ],
      "metadata": {
        "id": "YKleL3gVxWhk"
      },
      "id": "YKleL3gVxWhk"
    },
    {
      "cell_type": "markdown",
      "source": [
        "Based on the written rewiev, classify if the movie if good or bad"
      ],
      "metadata": {
        "id": "nGOfR9_RI27U"
      },
      "id": "nGOfR9_RI27U"
    },
    {
      "cell_type": "markdown",
      "source": [
        "### 2.0 - Import libraries"
      ],
      "metadata": {
        "id": "DeJiO_Vxxz7P"
      },
      "id": "DeJiO_Vxxz7P"
    },
    {
      "cell_type": "code",
      "execution_count": 23,
      "id": "JyIAVnPUlfak",
      "metadata": {
        "id": "JyIAVnPUlfak"
      },
      "outputs": [],
      "source": [
        "#from keras.preprocessing.text import Tokenizer\n",
        "import keras\n",
        "import numpy as np\n",
        "from keras.models import Sequential\n",
        "from keras.layers import LSTM, Dense, Embedding, SimpleRNN, GRU\n",
        "from keras.preprocessing.sequence import pad_sequences\n",
        "import matplotlib.pyplot as plt\n",
        "from keras.optimizers import Adam"
      ]
    },
    {
      "cell_type": "markdown",
      "source": [
        "### 2.1 - Load dataset"
      ],
      "metadata": {
        "id": "_ebMTkFqx65l"
      },
      "id": "_ebMTkFqx65l"
    },
    {
      "cell_type": "code",
      "execution_count": 24,
      "id": "zHTtEPlsq85X",
      "metadata": {
        "id": "zHTtEPlsq85X"
      },
      "outputs": [],
      "source": [
        "(X_train, y_train), (X_test, y_test) = keras.datasets.imdb.load_data()"
      ]
    },
    {
      "cell_type": "markdown",
      "source": [
        "### 2.2 - Dataset examination"
      ],
      "metadata": {
        "id": "K6UogxMDx_Y-"
      },
      "id": "K6UogxMDx_Y-"
    },
    {
      "cell_type": "code",
      "source": [
        "word_index = keras.datasets.imdb.get_word_index()\n",
        "id_to_word = {id_ + 3:word for word, id_ in word_index.items()}\n",
        "for id_, token in enumerate((\"<pad>\", \"<sos>\", \"<unk>\")):\n",
        "  id_to_word[id_] = token"
      ],
      "metadata": {
        "id": "9jLwcwPxyTD5"
      },
      "id": "9jLwcwPxyTD5",
      "execution_count": 25,
      "outputs": []
    },
    {
      "cell_type": "code",
      "source": [
        "single_sequence = \" \".join([id_to_word[id_] for id_ in X_train[0][:]])"
      ],
      "metadata": {
        "id": "c8yXphQIyXZB"
      },
      "id": "c8yXphQIyXZB",
      "execution_count": 26,
      "outputs": []
    },
    {
      "cell_type": "code",
      "source": [
        "single_sequence"
      ],
      "metadata": {
        "colab": {
          "base_uri": "https://localhost:8080/",
          "height": 105
        },
        "id": "h_1cpznZC70B",
        "outputId": "65dc9f51-8192-46b0-f3d2-2ccf2f725883"
      },
      "id": "h_1cpznZC70B",
      "execution_count": 27,
      "outputs": [
        {
          "output_type": "execute_result",
          "data": {
            "text/plain": [
              "\"<sos> this film was just brilliant casting location scenery story direction everyone's really suited the part they played and you could just imagine being there robert redford's is an amazing actor and now the same being director norman's father came from the same scottish island as myself so i loved the fact there was a real connection with this film the witty remarks throughout the film were great it was just brilliant so much that i bought the film as soon as it was released for retail and would recommend it to everyone to watch and the fly fishing was amazing really cried at the end it was so sad and you know what they say if you cry at a film it must have been good and this definitely was also congratulations to the two little boy's that played the part's of norman and paul they were just brilliant children are often left out of the praising list i think because the stars that play them all grown up are such a big profile for the whole film but these children are amazing and should be praised for what they have done don't you think the whole story was so lovely because it was true and was someone's life after all that was shared with us all\""
            ],
            "application/vnd.google.colaboratory.intrinsic+json": {
              "type": "string"
            }
          },
          "metadata": {},
          "execution_count": 27
        }
      ]
    },
    {
      "cell_type": "code",
      "execution_count": 28,
      "id": "4vRZPUGr3w_m",
      "metadata": {
        "id": "4vRZPUGr3w_m"
      },
      "outputs": [],
      "source": [
        "max_length = 150  # Define the maximum length of a review\n",
        "X_train = keras.preprocessing.sequence.pad_sequences(X_train, maxlen=max_length, padding='post', truncating='post', value=0)\n",
        "X_test = keras.preprocessing.sequence.pad_sequences(X_test, maxlen=max_length, padding='post', truncating='post', value=0)"
      ]
    },
    {
      "cell_type": "code",
      "execution_count": 29,
      "id": "NhzI5klo1pYp",
      "metadata": {
        "id": "NhzI5klo1pYp",
        "colab": {
          "base_uri": "https://localhost:8080/"
        },
        "outputId": "c2e5ee78-c4ae-450e-fcac-830a96fccb5d"
      },
      "outputs": [
        {
          "output_type": "stream",
          "name": "stderr",
          "text": [
            "/usr/local/lib/python3.11/dist-packages/keras/src/layers/core/embedding.py:93: UserWarning: Do not pass an `input_shape`/`input_dim` argument to a layer. When using Sequential models, prefer using an `Input(shape)` object as the first layer in the model instead.\n",
            "  super().__init__(**kwargs)\n"
          ]
        }
      ],
      "source": [
        "embed_size = 128\n",
        "vocabulary_size = 1000\n",
        "\n",
        "model = keras.models.Sequential([\n",
        "    keras.layers.Embedding(vocabulary_size, embed_size,\n",
        "                           input_shape=[None]),\n",
        "    keras.layers.SimpleRNN(128, return_sequences=True),\n",
        "    keras.layers.SimpleRNN(128),\n",
        "    keras.layers.Dense(1, activation='sigmoid')\n",
        "    ])\n"
      ]
    },
    {
      "cell_type": "code",
      "execution_count": 30,
      "id": "lCz9ZWgNbhaZ",
      "metadata": {
        "id": "lCz9ZWgNbhaZ"
      },
      "outputs": [],
      "source": [
        "optimizer = Adam(learning_rate = 0.001)"
      ]
    },
    {
      "cell_type": "code",
      "execution_count": 31,
      "id": "7fdxNF0h28jf",
      "metadata": {
        "id": "7fdxNF0h28jf"
      },
      "outputs": [],
      "source": [
        "model.compile(loss=\"binary_crossentropy\", optimizer=optimizer, metrics=[\"accuracy\"])"
      ]
    },
    {
      "cell_type": "code",
      "execution_count": 32,
      "id": "lIVFi9qT3gzy",
      "metadata": {
        "colab": {
          "base_uri": "https://localhost:8080/"
        },
        "id": "lIVFi9qT3gzy",
        "outputId": "bf0f7afa-891a-4ca0-9633-b3515d4245ca"
      },
      "outputs": [
        {
          "output_type": "stream",
          "name": "stdout",
          "text": [
            "Epoch 1/5\n",
            "\u001b[1m625/625\u001b[0m \u001b[32m━━━━━━━━━━━━━━━━━━━━\u001b[0m\u001b[37m\u001b[0m \u001b[1m20s\u001b[0m 26ms/step - accuracy: 0.4980 - loss: 0.7042 - val_accuracy: 0.4938 - val_loss: 0.7055\n",
            "Epoch 2/5\n",
            "\u001b[1m625/625\u001b[0m \u001b[32m━━━━━━━━━━━━━━━━━━━━\u001b[0m\u001b[37m\u001b[0m \u001b[1m20s\u001b[0m 27ms/step - accuracy: 0.5043 - loss: 0.6966 - val_accuracy: 0.4938 - val_loss: 0.7129\n",
            "Epoch 3/5\n",
            "\u001b[1m625/625\u001b[0m \u001b[32m━━━━━━━━━━━━━━━━━━━━\u001b[0m\u001b[37m\u001b[0m \u001b[1m19s\u001b[0m 24ms/step - accuracy: 0.5042 - loss: 0.6949 - val_accuracy: 0.4938 - val_loss: 0.6984\n",
            "Epoch 4/5\n",
            "\u001b[1m625/625\u001b[0m \u001b[32m━━━━━━━━━━━━━━━━━━━━\u001b[0m\u001b[37m\u001b[0m \u001b[1m21s\u001b[0m 25ms/step - accuracy: 0.4950 - loss: 0.6961 - val_accuracy: 0.5062 - val_loss: 0.6931\n",
            "Epoch 5/5\n",
            "\u001b[1m625/625\u001b[0m \u001b[32m━━━━━━━━━━━━━━━━━━━━\u001b[0m\u001b[37m\u001b[0m \u001b[1m20s\u001b[0m 24ms/step - accuracy: 0.4967 - loss: 0.6956 - val_accuracy: 0.4938 - val_loss: 0.6934\n"
          ]
        }
      ],
      "source": [
        "history = model.fit(X_train, y_train, epochs=5, validation_split=0.2)"
      ]
    },
    {
      "cell_type": "code",
      "source": [
        "score1 = model.evaluate(X_test, y_test, verbose=0)\n",
        "print('Test loss:', score1[0])\n",
        "print(f'Test accuracy: ', score1[1]*100, \"%\")"
      ],
      "metadata": {
        "colab": {
          "base_uri": "https://localhost:8080/"
        },
        "id": "69zrgeNHIau6",
        "outputId": "b2bddaa4-bfe8-49fa-8678-215d6e9770b3"
      },
      "id": "69zrgeNHIau6",
      "execution_count": 33,
      "outputs": [
        {
          "output_type": "stream",
          "name": "stdout",
          "text": [
            "Test loss: 0.6932410001754761\n",
            "Test accuracy:  50.0 %\n"
          ]
        }
      ]
    },
    {
      "cell_type": "markdown",
      "source": [
        "TASK: Modify structure, change the core of the network from RNN to LTSM and GRU. Compare the results"
      ],
      "metadata": {
        "id": "ZtA1O3R1RArG"
      },
      "id": "ZtA1O3R1RArG"
    },
    {
      "cell_type": "markdown",
      "source": [
        "network LSTM:"
      ],
      "metadata": {
        "id": "QqjOofWbZFKk"
      },
      "id": "QqjOofWbZFKk"
    },
    {
      "cell_type": "code",
      "source": [
        "embed_size = 128\n",
        "vocabulary_size = 1000\n",
        "\n",
        "model1 = keras.models.Sequential([\n",
        "    keras.layers.Embedding(vocabulary_size, embed_size,\n",
        "                           input_shape=[None]),\n",
        "    keras.layers.LSTM(128, return_sequences=True),\n",
        "    keras.layers.LSTM(128),\n",
        "    keras.layers.Dense(1, activation='sigmoid')\n",
        "    ])\n",
        "\n",
        "optimizer1 = Adam(learning_rate = 0.001)\n",
        "\n",
        "model1.compile(loss=\"binary_crossentropy\", optimizer=optimizer1, metrics=[\"accuracy\"])\n",
        "\n",
        "history = model1.fit(X_train, y_train, epochs=5, validation_split=0.2)"
      ],
      "metadata": {
        "colab": {
          "base_uri": "https://localhost:8080/"
        },
        "id": "VCaRjUu4Xu7d",
        "outputId": "d0a66c6f-f265-44e3-fb21-f4d3a76ee875"
      },
      "id": "VCaRjUu4Xu7d",
      "execution_count": 34,
      "outputs": [
        {
          "output_type": "stream",
          "name": "stdout",
          "text": [
            "Epoch 1/5\n",
            "\u001b[1m625/625\u001b[0m \u001b[32m━━━━━━━━━━━━━━━━━━━━\u001b[0m\u001b[37m\u001b[0m \u001b[1m14s\u001b[0m 16ms/step - accuracy: 0.5399 - loss: 0.6821 - val_accuracy: 0.6116 - val_loss: 0.6601\n",
            "Epoch 2/5\n",
            "\u001b[1m625/625\u001b[0m \u001b[32m━━━━━━━━━━━━━━━━━━━━\u001b[0m\u001b[37m\u001b[0m \u001b[1m9s\u001b[0m 15ms/step - accuracy: 0.6101 - loss: 0.6616 - val_accuracy: 0.5296 - val_loss: 0.6910\n",
            "Epoch 3/5\n",
            "\u001b[1m625/625\u001b[0m \u001b[32m━━━━━━━━━━━━━━━━━━━━\u001b[0m\u001b[37m\u001b[0m \u001b[1m10s\u001b[0m 15ms/step - accuracy: 0.5568 - loss: 0.6789 - val_accuracy: 0.7198 - val_loss: 0.6220\n",
            "Epoch 4/5\n",
            "\u001b[1m625/625\u001b[0m \u001b[32m━━━━━━━━━━━━━━━━━━━━\u001b[0m\u001b[37m\u001b[0m \u001b[1m10s\u001b[0m 15ms/step - accuracy: 0.7758 - loss: 0.4989 - val_accuracy: 0.8024 - val_loss: 0.4236\n",
            "Epoch 5/5\n",
            "\u001b[1m625/625\u001b[0m \u001b[32m━━━━━━━━━━━━━━━━━━━━\u001b[0m\u001b[37m\u001b[0m \u001b[1m10s\u001b[0m 16ms/step - accuracy: 0.8264 - loss: 0.3880 - val_accuracy: 0.8222 - val_loss: 0.3935\n"
          ]
        }
      ]
    },
    {
      "cell_type": "code",
      "source": [
        "score2 = model1.evaluate(X_test, y_test, verbose=0)\n",
        "print('Test loss:', score2[0])\n",
        "print(f'Test accuracy: ', score2[1]*100, \"%\")"
      ],
      "metadata": {
        "colab": {
          "base_uri": "https://localhost:8080/"
        },
        "id": "X3bD0v67Yk8i",
        "outputId": "37e5266c-2106-4acc-89ad-7f352a2a0ed5"
      },
      "id": "X3bD0v67Yk8i",
      "execution_count": 35,
      "outputs": [
        {
          "output_type": "stream",
          "name": "stdout",
          "text": [
            "Test loss: 0.3849058151245117\n",
            "Test accuracy:  82.6479971408844 %\n"
          ]
        }
      ]
    },
    {
      "cell_type": "markdown",
      "source": [
        "GRU network:"
      ],
      "metadata": {
        "id": "R7DU5O_kYtEJ"
      },
      "id": "R7DU5O_kYtEJ"
    },
    {
      "cell_type": "code",
      "source": [
        "embed_size = 128\n",
        "vocabulary_size = 1000\n",
        "\n",
        "model2 = keras.models.Sequential([\n",
        "    keras.layers.Embedding(vocabulary_size, embed_size,\n",
        "                           input_shape=[None]),\n",
        "    keras.layers.GRU(128, return_sequences=True),\n",
        "    keras.layers.GRU(128),\n",
        "    keras.layers.Dense(1, activation='sigmoid')\n",
        "    ])\n",
        "\n",
        "optimizer2 = Adam(learning_rate = 0.001)\n",
        "\n",
        "model2.compile(loss=\"binary_crossentropy\", optimizer=optimizer2, metrics=[\"accuracy\"])\n",
        "\n",
        "history = model2.fit(X_train, y_train, epochs=5, validation_split=0.2)"
      ],
      "metadata": {
        "colab": {
          "base_uri": "https://localhost:8080/"
        },
        "id": "zXHMjltuYxWZ",
        "outputId": "88cba918-5c23-4adb-d8ad-a8adbb907718"
      },
      "id": "zXHMjltuYxWZ",
      "execution_count": 36,
      "outputs": [
        {
          "output_type": "stream",
          "name": "stdout",
          "text": [
            "Epoch 1/5\n",
            "\u001b[1m625/625\u001b[0m \u001b[32m━━━━━━━━━━━━━━━━━━━━\u001b[0m\u001b[37m\u001b[0m \u001b[1m12s\u001b[0m 16ms/step - accuracy: 0.5163 - loss: 0.6928 - val_accuracy: 0.6012 - val_loss: 0.6665\n",
            "Epoch 2/5\n",
            "\u001b[1m625/625\u001b[0m \u001b[32m━━━━━━━━━━━━━━━━━━━━\u001b[0m\u001b[37m\u001b[0m \u001b[1m9s\u001b[0m 15ms/step - accuracy: 0.7657 - loss: 0.4868 - val_accuracy: 0.8146 - val_loss: 0.3942\n",
            "Epoch 3/5\n",
            "\u001b[1m625/625\u001b[0m \u001b[32m━━━━━━━━━━━━━━━━━━━━\u001b[0m\u001b[37m\u001b[0m \u001b[1m10s\u001b[0m 15ms/step - accuracy: 0.8441 - loss: 0.3491 - val_accuracy: 0.8258 - val_loss: 0.3857\n",
            "Epoch 4/5\n",
            "\u001b[1m625/625\u001b[0m \u001b[32m━━━━━━━━━━━━━━━━━━━━\u001b[0m\u001b[37m\u001b[0m \u001b[1m10s\u001b[0m 15ms/step - accuracy: 0.8612 - loss: 0.3207 - val_accuracy: 0.8272 - val_loss: 0.3990\n",
            "Epoch 5/5\n",
            "\u001b[1m625/625\u001b[0m \u001b[32m━━━━━━━━━━━━━━━━━━━━\u001b[0m\u001b[37m\u001b[0m \u001b[1m10s\u001b[0m 15ms/step - accuracy: 0.8716 - loss: 0.2978 - val_accuracy: 0.8266 - val_loss: 0.3934\n"
          ]
        }
      ]
    },
    {
      "cell_type": "code",
      "source": [
        "score3 = model2.evaluate(X_test, y_test, verbose=0)\n",
        "print('Test loss:', score3[0])\n",
        "print(f'Test accuracy: ', score3[1]*100, \"%\")"
      ],
      "metadata": {
        "colab": {
          "base_uri": "https://localhost:8080/"
        },
        "id": "xnK9Da87Y_zo",
        "outputId": "7705dcb3-22b6-4f9b-abee-4e1b258caee1"
      },
      "id": "xnK9Da87Y_zo",
      "execution_count": 37,
      "outputs": [
        {
          "output_type": "stream",
          "name": "stdout",
          "text": [
            "Test loss: 0.37895631790161133\n",
            "Test accuracy:  82.86399841308594 %\n"
          ]
        }
      ]
    },
    {
      "cell_type": "markdown",
      "source": [
        "testing best acuracy\n"
      ],
      "metadata": {
        "id": "GUJpxhFPZ7y3"
      },
      "id": "GUJpxhFPZ7y3"
    },
    {
      "cell_type": "code",
      "source": [
        "embed_size = 128\n",
        "vocabulary_size = 1000\n",
        "\n",
        "model3 = keras.models.Sequential([\n",
        "    keras.layers.Embedding(vocabulary_size, embed_size,\n",
        "                           input_shape=[None]),\n",
        "    keras.layers.GRU(128, return_sequences=True),\n",
        "     keras.layers.GRU(128, return_sequences=True),\n",
        "    keras.layers.LSTM(128, return_sequences=True),\n",
        "    keras.layers.GRU(128),\n",
        "    keras.layers.Dense(1, activation='sigmoid')\n",
        "    ])\n",
        "\n",
        "optimizer3 = Adam(learning_rate = 0.001)\n",
        "\n",
        "model3.compile(loss=\"binary_crossentropy\", optimizer=optimizer3, metrics=[\"accuracy\"])\n",
        "\n",
        "history = model3.fit(X_train, y_train, epochs=10, validation_split=0.2)"
      ],
      "metadata": {
        "colab": {
          "base_uri": "https://localhost:8080/"
        },
        "id": "z5beRnWFZ-bh",
        "outputId": "d96d81aa-5bec-479a-c291-7a2dca643f3f"
      },
      "id": "z5beRnWFZ-bh",
      "execution_count": 38,
      "outputs": [
        {
          "output_type": "stream",
          "name": "stdout",
          "text": [
            "Epoch 1/10\n",
            "\u001b[1m625/625\u001b[0m \u001b[32m━━━━━━━━━━━━━━━━━━━━\u001b[0m\u001b[37m\u001b[0m \u001b[1m22s\u001b[0m 30ms/step - accuracy: 0.5303 - loss: 0.6887 - val_accuracy: 0.5972 - val_loss: 0.6728\n",
            "Epoch 2/10\n",
            "\u001b[1m625/625\u001b[0m \u001b[32m━━━━━━━━━━━━━━━━━━━━\u001b[0m\u001b[37m\u001b[0m \u001b[1m18s\u001b[0m 26ms/step - accuracy: 0.5462 - loss: 0.6810 - val_accuracy: 0.6886 - val_loss: 0.5646\n",
            "Epoch 3/10\n",
            "\u001b[1m625/625\u001b[0m \u001b[32m━━━━━━━━━━━━━━━━━━━━\u001b[0m\u001b[37m\u001b[0m \u001b[1m21s\u001b[0m 28ms/step - accuracy: 0.7872 - loss: 0.4573 - val_accuracy: 0.8180 - val_loss: 0.3983\n",
            "Epoch 4/10\n",
            "\u001b[1m625/625\u001b[0m \u001b[32m━━━━━━━━━━━━━━━━━━━━\u001b[0m\u001b[37m\u001b[0m \u001b[1m17s\u001b[0m 27ms/step - accuracy: 0.8379 - loss: 0.3647 - val_accuracy: 0.8296 - val_loss: 0.3854\n",
            "Epoch 5/10\n",
            "\u001b[1m625/625\u001b[0m \u001b[32m━━━━━━━━━━━━━━━━━━━━\u001b[0m\u001b[37m\u001b[0m \u001b[1m20s\u001b[0m 26ms/step - accuracy: 0.8493 - loss: 0.3488 - val_accuracy: 0.8352 - val_loss: 0.3807\n",
            "Epoch 6/10\n",
            "\u001b[1m625/625\u001b[0m \u001b[32m━━━━━━━━━━━━━━━━━━━━\u001b[0m\u001b[37m\u001b[0m \u001b[1m21s\u001b[0m 28ms/step - accuracy: 0.8639 - loss: 0.3208 - val_accuracy: 0.8312 - val_loss: 0.3783\n",
            "Epoch 7/10\n",
            "\u001b[1m625/625\u001b[0m \u001b[32m━━━━━━━━━━━━━━━━━━━━\u001b[0m\u001b[37m\u001b[0m \u001b[1m21s\u001b[0m 29ms/step - accuracy: 0.8655 - loss: 0.3092 - val_accuracy: 0.8324 - val_loss: 0.3816\n",
            "Epoch 8/10\n",
            "\u001b[1m625/625\u001b[0m \u001b[32m━━━━━━━━━━━━━━━━━━━━\u001b[0m\u001b[37m\u001b[0m \u001b[1m19s\u001b[0m 26ms/step - accuracy: 0.8706 - loss: 0.2988 - val_accuracy: 0.8260 - val_loss: 0.4038\n",
            "Epoch 9/10\n",
            "\u001b[1m625/625\u001b[0m \u001b[32m━━━━━━━━━━━━━━━━━━━━\u001b[0m\u001b[37m\u001b[0m \u001b[1m21s\u001b[0m 28ms/step - accuracy: 0.8807 - loss: 0.2806 - val_accuracy: 0.8356 - val_loss: 0.3868\n",
            "Epoch 10/10\n",
            "\u001b[1m625/625\u001b[0m \u001b[32m━━━━━━━━━━━━━━━━━━━━\u001b[0m\u001b[37m\u001b[0m \u001b[1m21s\u001b[0m 28ms/step - accuracy: 0.8924 - loss: 0.2569 - val_accuracy: 0.8242 - val_loss: 0.4256\n"
          ]
        }
      ]
    },
    {
      "cell_type": "code",
      "source": [
        "scorebest = model3.evaluate(X_test, y_test, verbose=0)\n",
        "print('Test loss:', scorebest[0])\n",
        "print(f'Test accuracy: ', scorebest[1]*100, \"%\")"
      ],
      "metadata": {
        "colab": {
          "base_uri": "https://localhost:8080/"
        },
        "id": "WgPMmgiWbbsq",
        "outputId": "c8325f6c-31f4-4983-eec0-9bdd20df0a98"
      },
      "id": "WgPMmgiWbbsq",
      "execution_count": 39,
      "outputs": [
        {
          "output_type": "stream",
          "name": "stdout",
          "text": [
            "Test loss: 0.4179645776748657\n",
            "Test accuracy:  82.55599737167358 %\n"
          ]
        }
      ]
    }
  ],
  "metadata": {
    "accelerator": "GPU",
    "colab": {
      "gpuType": "T4",
      "provenance": []
    },
    "kernelspec": {
      "display_name": "Python 3",
      "name": "python3"
    },
    "language_info": {
      "codemirror_mode": {
        "name": "ipython",
        "version": 3
      },
      "file_extension": ".py",
      "mimetype": "text/x-python",
      "name": "python",
      "nbconvert_exporter": "python",
      "pygments_lexer": "ipython3",
      "version": "3.10.12"
    }
  },
  "nbformat": 4,
  "nbformat_minor": 5
}